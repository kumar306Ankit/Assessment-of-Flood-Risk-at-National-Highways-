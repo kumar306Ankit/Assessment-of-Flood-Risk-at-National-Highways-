{
 "cells": [
  {
   "cell_type": "code",
   "execution_count": 8,
   "id": "e2cb46df-0949-4baf-a9be-7ce530ad5eb3",
   "metadata": {},
   "outputs": [],
   "source": [
    "import os\n",
    "import pandas as pd\n",
    "\n",
    "def process_excel_files(directory, output_directory, ssp, period):\n",
    "    combined_data = {}\n",
    "\n",
    "    for filename in os.listdir(directory):\n",
    "        if filename.endswith(\".xlsx\") and ssp in filename and period in filename:\n",
    "            file_path = os.path.join(directory, filename)\n",
    "            df = pd.read_excel(file_path)\n",
    "\n",
    "            # Get available return periods dynamically\n",
    "            return_periods = [int(col.split('-year')[0].split()[-1]) for col in df.columns if 'Return value for' in col]\n",
    "\n",
    "            for catchment_id in df['Catchment ID'].unique():\n",
    "                catchment_data = df[df['Catchment ID'] == catchment_id]\n",
    "                \n",
    "                if catchment_id not in combined_data:\n",
    "                    combined_data[catchment_id] = {\n",
    "                        'Latitude': catchment_data['Latitude'].iloc[0],\n",
    "                        'Longitude': catchment_data['Longitude'].iloc[0],\n",
    "                    }\n",
    "                    for rp in return_periods:\n",
    "                        combined_data[catchment_id][f'Stationary Return_{rp}'] = []\n",
    "                        combined_data[catchment_id][f'Non Stationary Return_{rp}'] = []\n",
    "                        combined_data[catchment_id][f'Difference Between Stationary and Non Stationary Return_{rp}'] = []\n",
    "\n",
    "                for rp in return_periods:\n",
    "                    combined_data[catchment_id][f'Stationary Return_{rp}'].extend(catchment_data[f'Stationary Return value for {rp}-year'].tolist())\n",
    "                    combined_data[catchment_id][f'Non Stationary Return_{rp}'].extend(catchment_data[f'Non-Stationary Return value for {rp}-year'].tolist())\n",
    "                    combined_data[catchment_id][f'Difference Between Stationary and Non Stationary Return_{rp}'].extend(catchment_data[f'Change in Precipitation for return period {rp}-year'].tolist())\n",
    "\n",
    "    results = []\n",
    "    for catchment_id, data in combined_data.items():\n",
    "        result = {\n",
    "            'Catchment ID': catchment_id,\n",
    "            'Latitude': data['Latitude'],\n",
    "            'Longitude': data['Longitude'],\n",
    "        }\n",
    "        for rp in return_periods:\n",
    "            result[f'Stationary Return value for {rp}-year'] = sum(data[f'Stationary Return_{rp}']) / len(data[f'Stationary Return_{rp}'])\n",
    "            result[f'Non Stationary Return value for {rp}-year'] = sum(data[f'Non Stationary Return_{rp}']) / len(data[f'Non Stationary Return_{rp}'])\n",
    "            result[f'Difference Between Stationary and Non Stationary Return value for {rp}-year'] = sum(data[f'Difference Between Stationary and Non Stationary Return_{rp}']) / len(data[f'Difference Between Stationary and Non Stationary Return_{rp}'])\n",
    "\n",
    "        results.append(result)\n",
    "\n",
    "    result_df = pd.DataFrame(results)\n",
    "    output_filename = os.path.join(output_directory, f\"{ssp}_{period}.xlsx\")\n",
    "    result_df.to_excel(output_filename, index=False)\n",
    "    print(f\"Results saved to {output_filename}\")"
   ]
  },
  {
   "cell_type": "code",
   "execution_count": 9,
   "id": "e2aad30f-597d-4fe4-8827-3d678534be83",
   "metadata": {},
   "outputs": [
    {
     "name": "stdout",
     "output_type": "stream",
     "text": [
      "Results saved to /DATA1/ankit_new_data/Different Model Analysis/Combined Analysis/Historical_1981-2010.xlsx\n",
      "Results saved to /DATA1/ankit_new_data/Different Model Analysis/Combined Analysis/ssp126_2041-2070.xlsx\n",
      "Results saved to /DATA1/ankit_new_data/Different Model Analysis/Combined Analysis/ssp126_2071-2100.xlsx\n",
      "Results saved to /DATA1/ankit_new_data/Different Model Analysis/Combined Analysis/ssp245_2041-2070.xlsx\n",
      "Results saved to /DATA1/ankit_new_data/Different Model Analysis/Combined Analysis/ssp245_2071-2100.xlsx\n",
      "Results saved to /DATA1/ankit_new_data/Different Model Analysis/Combined Analysis/ssp370_2041-2070.xlsx\n",
      "Results saved to /DATA1/ankit_new_data/Different Model Analysis/Combined Analysis/ssp370_2071-2100.xlsx\n",
      "Results saved to /DATA1/ankit_new_data/Different Model Analysis/Combined Analysis/ssp585_2041-2070.xlsx\n",
      "Results saved to /DATA1/ankit_new_data/Different Model Analysis/Combined Analysis/ssp585_2071-2100.xlsx\n"
     ]
    }
   ],
   "source": [
    "# Define the SSPs and periods\n",
    "ssps = [\"Historical\", \"ssp126\", \"ssp245\", \"ssp370\", \"ssp585\"]\n",
    "periods = [\"1981-2010\", \"2041-2070\", \"2071-2100\"]\n",
    "\n",
    "# Process the files\n",
    "directory = \"/DATA1/ankit_new_data/Different Model Analysis\"\n",
    "output_directory = \"/DATA1/ankit_new_data/Different Model Analysis/Combined Analysis\"\n",
    "\n",
    "for ssp in ssps:\n",
    "    if ssp == \"Historical\":\n",
    "        process_excel_files(directory, output_directory, ssp, periods[0])\n",
    "    else:\n",
    "        process_excel_files(directory, output_directory, ssp, periods[1])\n",
    "        process_excel_files(directory, output_directory, ssp, periods[2])\n"
   ]
  },
  {
   "cell_type": "code",
   "execution_count": null,
   "id": "c550d1a1-0071-4c92-8bfd-e3db1ab6e4d2",
   "metadata": {},
   "outputs": [],
   "source": []
  }
 ],
 "metadata": {
  "kernelspec": {
   "display_name": "Python 3 (ipykernel)",
   "language": "python",
   "name": "python3"
  },
  "language_info": {
   "codemirror_mode": {
    "name": "ipython",
    "version": 3
   },
   "file_extension": ".py",
   "mimetype": "text/x-python",
   "name": "python",
   "nbconvert_exporter": "python",
   "pygments_lexer": "ipython3",
   "version": "3.8.19"
  }
 },
 "nbformat": 4,
 "nbformat_minor": 5
}
